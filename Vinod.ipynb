{
  "nbformat": 4,
  "nbformat_minor": 0,
  "metadata": {
    "colab": {
      "name": "Vinod.ipynb",
      "provenance": [],
      "authorship_tag": "ABX9TyMz3ZefDSCsoGldWkOalbMx",
      "include_colab_link": true
    },
    "kernelspec": {
      "name": "python3",
      "display_name": "Python 3"
    }
  },
  "cells": [
    {
      "cell_type": "markdown",
      "metadata": {
        "id": "view-in-github",
        "colab_type": "text"
      },
      "source": [
        "<a href=\"https://colab.research.google.com/github/kuchukullavinodkumarreddy/pythonvinod/blob/master/Vinod.ipynb\" target=\"_parent\"><img src=\"https://colab.research.google.com/assets/colab-badge.svg\" alt=\"Open In Colab\"/></a>"
      ]
    },
    {
      "cell_type": "markdown",
      "metadata": {
        "id": "W3HsIeTA2b3Y",
        "colab_type": "text"
      },
      "source": [
        "LIST FUNCTIONS"
      ]
    },
    {
      "cell_type": "code",
      "metadata": {
        "id": "spF1QqWoymcK",
        "colab_type": "code",
        "colab": {
          "base_uri": "https://localhost:8080/",
          "height": 34
        },
        "outputId": "31b3b919-c3d0-42d6-bda1-ca14f5f4043f"
      },
      "source": [
        "#to find length of a list\n",
        "#len() is used\n",
        "a = [\"abhi\", \"ram\", \"vinod\"]\n",
        "print(len(a))"
      ],
      "execution_count": 8,
      "outputs": [
        {
          "output_type": "stream",
          "text": [
            "3\n"
          ],
          "name": "stdout"
        }
      ]
    },
    {
      "cell_type": "code",
      "metadata": {
        "id": "RpelRndJ09jT",
        "colab_type": "code",
        "colab": {
          "base_uri": "https://localhost:8080/",
          "height": 34
        },
        "outputId": "29a4078a-7bf3-4788-ef51-ad90653fa850"
      },
      "source": [
        "#to find minimum\n",
        "#min() is used\n",
        "a=[1,2,3,4,5]\n",
        "b=[1,2,3]\n",
        "print(min(a,b))"
      ],
      "execution_count": 5,
      "outputs": [
        {
          "output_type": "stream",
          "text": [
            "[1, 2, 3]\n"
          ],
          "name": "stdout"
        }
      ]
    },
    {
      "cell_type": "code",
      "metadata": {
        "id": "5yMV6CD01_CL",
        "colab_type": "code",
        "colab": {
          "base_uri": "https://localhost:8080/",
          "height": 34
        },
        "outputId": "6abf7b50-97a9-42bc-db98-1de30f9a2381"
      },
      "source": [
        "#to find range\n",
        "#range() is used\n",
        "print(list(range(1,11)))"
      ],
      "execution_count": 7,
      "outputs": [
        {
          "output_type": "stream",
          "text": [
            "[1, 2, 3, 4, 5, 6, 7, 8, 9, 10]\n"
          ],
          "name": "stdout"
        }
      ]
    },
    {
      "cell_type": "code",
      "metadata": {
        "id": "X604CqP21dWa",
        "colab_type": "code",
        "colab": {
          "base_uri": "https://localhost:8080/",
          "height": 34
        },
        "outputId": "363bd636-7739-4093-bf59-777f2c1b062f"
      },
      "source": [
        "#to find maximum\n",
        "#max() is used\n",
        "a=[100,101,102,103]\n",
        "b=[200,201,202,203,204]\n",
        "print(max(a,b))"
      ],
      "execution_count": 6,
      "outputs": [
        {
          "output_type": "stream",
          "text": [
            "[200, 201, 202, 203, 204]\n"
          ],
          "name": "stdout"
        }
      ]
    },
    {
      "cell_type": "code",
      "metadata": {
        "id": "udpyjbSt2tYd",
        "colab_type": "code",
        "colab": {}
      },
      "source": [
        "#TUPLES FUNCTIONS"
      ],
      "execution_count": 22,
      "outputs": []
    },
    {
      "cell_type": "code",
      "metadata": {
        "id": "3QG8QIJz5CRK",
        "colab_type": "code",
        "colab": {
          "base_uri": "https://localhost:8080/",
          "height": 34
        },
        "outputId": "f1ea0981-8c70-4b10-a85a-b32d854f9ee2"
      },
      "source": [
        "#tuple containing list\n",
        "# Set the tuple\n",
        "t = (\"Banana\", [1, 2, 3]) \n",
        "# Print the tuple\n",
        "print(t)"
      ],
      "execution_count": 10,
      "outputs": [
        {
          "output_type": "stream",
          "text": [
            "('Banana', [1, 2, 3])\n"
          ],
          "name": "stdout"
        }
      ]
    },
    {
      "cell_type": "code",
      "metadata": {
        "id": "uTGMH_xE5RUJ",
        "colab_type": "code",
        "colab": {
          "base_uri": "https://localhost:8080/",
          "height": 34
        },
        "outputId": "ed2ae9b4-c6d3-44e8-8bbc-2b2ff8b95eb1"
      },
      "source": [
        " \n",
        "#Access the values in tuples\n",
        "# Set the tuple\n",
        "weekdays = (\"Monday\", \"Tuesday\", \"Wednesday\", \"Thursday\", \"Friday\")\n",
        "# Print the second element of the tuple\n",
        "print(weekdays[1])"
      ],
      "execution_count": 11,
      "outputs": [
        {
          "output_type": "stream",
          "text": [
            "Tuesday\n"
          ],
          "name": "stdout"
        }
      ]
    },
    {
      "cell_type": "code",
      "metadata": {
        "id": "58zAMY745zuE",
        "colab_type": "code",
        "colab": {
          "base_uri": "https://localhost:8080/",
          "height": 34
        },
        "outputId": "1dfe60a6-9f84-4817-8ca2-fa2c8c2d5db2"
      },
      "source": [
        "#access multiple values\n",
        "weekdays = (\"Monday\", \"Tuesday\", \"Wednesday\", \"Thursday\", \"Friday\")\n",
        "print(weekdays[1:4])"
      ],
      "execution_count": 12,
      "outputs": [
        {
          "output_type": "stream",
          "text": [
            "('Tuesday', 'Wednesday', 'Thursday')\n"
          ],
          "name": "stdout"
        }
      ]
    },
    {
      "cell_type": "code",
      "metadata": {
        "id": "p9BMdZTO6Me4",
        "colab_type": "code",
        "colab": {
          "base_uri": "https://localhost:8080/",
          "height": 88
        },
        "outputId": "16e61cc9-1cc8-464a-c988-3fccacee3966"
      },
      "source": [
        " \n",
        "#concate tuples\n",
        "#Set two tuples\n",
        "weekdays = (\"Monday\", \"Tuesday\", \"Wednesday\", \"Thursday\", \"Friday\")\n",
        "weekenddays = (\"Saturday\", \"Sunday\")\n",
        "# Set a third tuple to the value of the previous two\n",
        "alldays = weekdays + weekenddays\n",
        "# Print them all\n",
        "print(weekdays)\n",
        "print(weekenddays)\n",
        "print(alldays)"
      ],
      "execution_count": 13,
      "outputs": [
        {
          "output_type": "stream",
          "text": [
            "('Monday', 'Tuesday', 'Wednesday', 'Thursday', 'Friday')\n",
            "('Saturday', 'Sunday')\n",
            "('Monday', 'Tuesday', 'Wednesday', 'Thursday', 'Friday', 'Saturday', 'Sunday')\n"
          ],
          "name": "stdout"
        }
      ]
    },
    {
      "cell_type": "code",
      "metadata": {
        "id": "BFps786p7L5V",
        "colab_type": "code",
        "colab": {
          "base_uri": "https://localhost:8080/",
          "height": 105
        },
        "outputId": "8562f348-3ad8-47b6-da12-bfcaf4584543"
      },
      "source": [
        "#Named tuples\n",
        " \n",
        "# Import the 'namedtuple' function from the 'collections' module\n",
        "from collections import namedtuple\n",
        "# Set the tuple\n",
        "individual = namedtuple(\"Individual\", \"name age height\")\n",
        "user = individual(name=\"Homer\", age=37, height=178)\n",
        "# Print the tuple\n",
        "print(user)\n",
        "# Print each item in the tuple\n",
        "print(user.name)\n",
        "print(user.age)\n",
        "print(user.height)"
      ],
      "execution_count": 14,
      "outputs": [
        {
          "output_type": "stream",
          "text": [
            "Individual(name='Homer', age=37, height=178)\n",
            "Homer\n",
            "37\n",
            "178\n"
          ],
          "name": "stdout"
        }
      ]
    },
    {
      "cell_type": "code",
      "metadata": {
        "id": "47FCobXQ7hIr",
        "colab_type": "code",
        "colab": {}
      },
      "source": [
        "#DICTIONARY FUNCTIONS"
      ],
      "execution_count": 20,
      "outputs": []
    },
    {
      "cell_type": "code",
      "metadata": {
        "id": "AF6wZwOC72jH",
        "colab_type": "code",
        "colab": {
          "base_uri": "https://localhost:8080/",
          "height": 71
        },
        "outputId": "cfcff303-d5e9-4b6f-88c5-f7b4f7b27600"
      },
      "source": [
        " \n",
        "# Create the dictionary\n",
        "planet_size = {\"Earth\": 40075, \"Saturn\": 378675, \"Jupiter\": 439264}\n",
        "# Print the dictionary\n",
        "print(planet_size)\n",
        "# Print the type\n",
        "print(type(planet_size))"
      ],
      "execution_count": 16,
      "outputs": [
        {
          "output_type": "stream",
          "text": [
            "{'Earth': 40075, 'Saturn': 378675, 'Jupiter': 439264}\n",
            "<class 'dict'>\n"
          ],
          "name": "stdout"
        }
      ]
    },
    {
      "cell_type": "code",
      "metadata": {
        "id": "ynknooyr8Qy8",
        "colab_type": "code",
        "colab": {
          "base_uri": "https://localhost:8080/",
          "height": 54
        },
        "outputId": "ba626cc9-6256-4121-829e-d020486b70a4"
      },
      "source": [
        "#dictionary containing list and tuples\n",
        "# Create the dictionary\n",
        "food = {\"Fruit\": [\"Apple\", \"Orange\", \"Banana\"], \"Vegetables\": (\"Eat\", \"Your\", \"Greens\")}\n",
        "# Print the dictionary\n",
        "print(food)"
      ],
      "execution_count": 17,
      "outputs": [
        {
          "output_type": "stream",
          "text": [
            "{'Fruit': ['Apple', 'Orange', 'Banana'], 'Vegetables': ('Eat', 'Your', 'Greens')}\n"
          ],
          "name": "stdout"
        }
      ]
    },
    {
      "cell_type": "code",
      "metadata": {
        "id": "nXlj4niW8y74",
        "colab_type": "code",
        "colab": {
          "base_uri": "https://localhost:8080/",
          "height": 51
        },
        "outputId": "cc42e44e-085a-4485-cf3d-65473be4e1ab"
      },
      "source": [
        "#Dealing with missing keys\n",
        "# Create the dictionary\n",
        "planet_size = {\"Earth\": 40075, \"Saturn\": 378675, \"Jupiter\": 439264}\n",
        "# get() function without a default value\n",
        "print(planet_size.get(\"Arrakis\"))\n",
        "# get() function with a default value\n",
        "print(planet_size.get(\"Arrakis\", \"Huh?\"))"
      ],
      "execution_count": 18,
      "outputs": [
        {
          "output_type": "stream",
          "text": [
            "None\n",
            "Huh?\n"
          ],
          "name": "stdout"
        }
      ]
    },
    {
      "cell_type": "code",
      "metadata": {
        "id": "T_nUHOiR9Tke",
        "colab_type": "code",
        "colab": {
          "base_uri": "https://localhost:8080/",
          "height": 34
        },
        "outputId": "267cf347-f7ae-417b-fef3-50f3813c7fc0"
      },
      "source": [
        "#access list item within a key\n",
        "# Create the dictionary\n",
        "food = {\"Fruit\": [\"Apple\", \"Orange\", \"Banana\"], \"Vegetables\": (\"Eat\", \"Your\", \"Greens\")}\n",
        "# Print the second fruit item\n",
        "print(food[\"Fruit\"][1])"
      ],
      "execution_count": 23,
      "outputs": [
        {
          "output_type": "stream",
          "text": [
            "Orange\n"
          ],
          "name": "stdout"
        }
      ]
    },
    {
      "cell_type": "code",
      "metadata": {
        "id": "kpBG3geh9gAV",
        "colab_type": "code",
        "colab": {
          "base_uri": "https://localhost:8080/",
          "height": 51
        },
        "outputId": "49bcdc0d-ab8e-476d-ae7d-4e0a00cf8b75"
      },
      "source": [
        "#update an item in a dictionary\n",
        "# Create the dictionary and print\n",
        "user = {\"Name\": \"Christine\", \"Age\": 23}\n",
        "print(user)\n",
        "# Update the user's age and print\n",
        "user[\"Age\"] = 24\n",
        "print(user)"
      ],
      "execution_count": 24,
      "outputs": [
        {
          "output_type": "stream",
          "text": [
            "{'Name': 'Christine', 'Age': 23}\n",
            "{'Name': 'Christine', 'Age': 24}\n"
          ],
          "name": "stdout"
        }
      ]
    },
    {
      "cell_type": "code",
      "metadata": {
        "id": "W3aKS3H_97R0",
        "colab_type": "code",
        "colab": {}
      },
      "source": [
        "#STRING FUNCTIONS"
      ],
      "execution_count": null,
      "outputs": []
    },
    {
      "cell_type": "code",
      "metadata": {
        "id": "fEW8T_X2-C8y",
        "colab_type": "code",
        "colab": {
          "base_uri": "https://localhost:8080/",
          "height": 34
        },
        "outputId": "25cf6e79-979c-4ac7-d619-23f01173915b"
      },
      "source": [
        "#to find length\n",
        "a=\"hello\"\n",
        "print(len(a))"
      ],
      "execution_count": 26,
      "outputs": [
        {
          "output_type": "stream",
          "text": [
            "5\n"
          ],
          "name": "stdout"
        }
      ]
    },
    {
      "cell_type": "code",
      "metadata": {
        "id": "aaNd7phx-shd",
        "colab_type": "code",
        "colab": {
          "base_uri": "https://localhost:8080/",
          "height": 51
        },
        "outputId": "3bfd7b60-53ce-4581-c303-43c4e2ef2b8d"
      },
      "source": [
        "#to find whether numeric or not\n",
        "a=\"pic123\"\n",
        "b=\"21344\"\n",
        "print(a.isnumeric())\n",
        "print(b.isnumeric())"
      ],
      "execution_count": 27,
      "outputs": [
        {
          "output_type": "stream",
          "text": [
            "False\n",
            "True\n"
          ],
          "name": "stdout"
        }
      ]
    },
    {
      "cell_type": "code",
      "metadata": {
        "id": "2zW3ihoG_PRs",
        "colab_type": "code",
        "colab": {
          "base_uri": "https://localhost:8080/",
          "height": 54
        },
        "outputId": "fa89ee5d-d582-41cc-ce33-cfb4af920ac8"
      },
      "source": [
        "#Escape sequence\n",
        "msg = \"ATTENTION!\\rFor those about to rock, we salute you!\"\n",
        "print(msg)"
      ],
      "execution_count": 28,
      "outputs": [
        {
          "output_type": "stream",
          "text": [
            "ATTENTION!\rFor those about to rock, we salute you!\n"
          ],
          "name": "stdout"
        }
      ]
    },
    {
      "cell_type": "code",
      "metadata": {
        "id": "H_Apo6yO_csc",
        "colab_type": "code",
        "colab": {
          "base_uri": "https://localhost:8080/",
          "height": 34
        },
        "outputId": "df3f7b79-6006-44d6-f58a-898f4f680351"
      },
      "source": [
        "#to access part of string\n",
        "planet = \"Jupiter\"\n",
        "print(planet[2:5])"
      ],
      "execution_count": 29,
      "outputs": [
        {
          "output_type": "stream",
          "text": [
            "pit\n"
          ],
          "name": "stdout"
        }
      ]
    },
    {
      "cell_type": "code",
      "metadata": {
        "id": "fLw9KMrB_x5O",
        "colab_type": "code",
        "colab": {
          "base_uri": "https://localhost:8080/",
          "height": 54
        },
        "outputId": "c820bc0a-80c7-4b0c-a569-5307d7cb5373"
      },
      "source": [
        "#string formatting operator\n",
        "print(\"Hello %s, you scored %i out of %i\" % (\"vinod\", 93, 100))"
      ],
      "execution_count": 31,
      "outputs": [
        {
          "output_type": "stream",
          "text": [
            "Hello vinod, you scored 93 out of 100\n"
          ],
          "name": "stdout"
        }
      ]
    },
    {
      "cell_type": "code",
      "metadata": {
        "id": "j2wIRqCfAGHv",
        "colab_type": "code",
        "colab": {}
      },
      "source": [
        "#set functions"
      ],
      "execution_count": null,
      "outputs": []
    },
    {
      "cell_type": "code",
      "metadata": {
        "id": "JvPcNQgZAJEY",
        "colab_type": "code",
        "colab": {
          "base_uri": "https://localhost:8080/",
          "height": 34
        },
        "outputId": "955b791a-3a34-4856-9cde-75abc971358a"
      },
      "source": [
        "#to add\n",
        "set={1,2,3}\n",
        "set.add(\"vinod\")\n",
        "print(set)"
      ],
      "execution_count": 32,
      "outputs": [
        {
          "output_type": "stream",
          "text": [
            "{'vinod', 1, 2, 3}\n"
          ],
          "name": "stdout"
        }
      ]
    },
    {
      "cell_type": "code",
      "metadata": {
        "id": "bqkLs0HgB8bG",
        "colab_type": "code",
        "colab": {
          "base_uri": "https://localhost:8080/",
          "height": 34
        },
        "outputId": "6fdb8fe5-7522-42e2-cffc-564a00452196"
      },
      "source": [
        "#to remove\n",
        "set={1,2,3,4}\n",
        "set.remove(2)\n",
        "print(set)"
      ],
      "execution_count": 36,
      "outputs": [
        {
          "output_type": "stream",
          "text": [
            "{1, 3, 4}\n"
          ],
          "name": "stdout"
        }
      ]
    },
    {
      "cell_type": "code",
      "metadata": {
        "id": "VF6NjHr_Crql",
        "colab_type": "code",
        "colab": {
          "base_uri": "https://localhost:8080/",
          "height": 34
        },
        "outputId": "af541a90-175b-45b9-867b-a3a1caeb14a4"
      },
      "source": [
        "#to union\n",
        "set1={1,2,3,4}\n",
        "set2={3,4,5,6}\n",
        "print(set1.union(set2))"
      ],
      "execution_count": 40,
      "outputs": [
        {
          "output_type": "stream",
          "text": [
            "{1, 2, 3, 4, 5, 6}\n"
          ],
          "name": "stdout"
        }
      ]
    },
    {
      "cell_type": "code",
      "metadata": {
        "id": "MZ4-ECunDlHf",
        "colab_type": "code",
        "colab": {
          "base_uri": "https://localhost:8080/",
          "height": 34
        },
        "outputId": "933a9525-b64d-4037-8768-5e66f90d4417"
      },
      "source": [
        "#to intersect\n",
        "set1={1,2,3,4}\n",
        "set2={3,4,5,6}\n",
        "print(set1 & set2)"
      ],
      "execution_count": 41,
      "outputs": [
        {
          "output_type": "stream",
          "text": [
            "{3, 4}\n"
          ],
          "name": "stdout"
        }
      ]
    },
    {
      "cell_type": "code",
      "metadata": {
        "id": "2CgLnPyZEC-X",
        "colab_type": "code",
        "colab": {
          "base_uri": "https://localhost:8080/",
          "height": 34
        },
        "outputId": "f10d00a9-2476-4379-e6cb-1ebfe12c0153"
      },
      "source": [
        "#to clear set\n",
        "set={100,110,120,130}\n",
        "print(set.clear())"
      ],
      "execution_count": 42,
      "outputs": [
        {
          "output_type": "stream",
          "text": [
            "None\n"
          ],
          "name": "stdout"
        }
      ]
    }
  ]
}