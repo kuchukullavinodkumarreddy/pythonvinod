{
  "nbformat": 4,
  "nbformat_minor": 0,
  "metadata": {
    "colab": {
      "name": "Untitled0.ipynb",
      "provenance": [],
      "authorship_tag": "ABX9TyPxbBWKorMDgrDrrM9N8Aly",
      "include_colab_link": true
    },
    "kernelspec": {
      "name": "python3",
      "display_name": "Python 3"
    }
  },
  "cells": [
    {
      "cell_type": "markdown",
      "metadata": {
        "id": "view-in-github",
        "colab_type": "text"
      },
      "source": [
        "<a href=\"https://colab.research.google.com/github/kuchukullavinodkumarreddy/pythonvinod/blob/master/Untitled0.ipynb\" target=\"_parent\"><img src=\"https://colab.research.google.com/assets/colab-badge.svg\" alt=\"Open In Colab\"/></a>"
      ]
    },
    {
      "cell_type": "code",
      "metadata": {
        "id": "c41knsQIwW3J",
        "colab_type": "code",
        "colab": {}
      },
      "source": [
        "ASSIGNMENT-3"
      ],
      "execution_count": null,
      "outputs": []
    },
    {
      "cell_type": "code",
      "metadata": {
        "id": "Wk8zIlFJumK3",
        "colab_type": "code",
        "colab": {}
      },
      "source": [
        " \n",
        "lower = int(input(\"Enter lower range: \"))\n",
        "upper = int(input(\"Enter upper range: \"))\n",
        " \n",
        "for num in range(lower,upper + 1):\n",
        "   sum = 0\n",
        "   temp = num\n",
        "   while temp > 0:\n",
        "       digit = temp % 10\n",
        "       sum += digit ** 3\n",
        "       temp //= 10\n",
        " \n",
        "   if num == sum:\n",
        "       print(num)"
      ],
      "execution_count": null,
      "outputs": []
    }
  ]
}